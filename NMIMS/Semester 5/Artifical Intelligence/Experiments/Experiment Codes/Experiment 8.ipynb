{
 "cells": [
  {
   "cell_type": "markdown",
   "metadata": {},
   "source": [
    "# **Experiment 8 - K Means Clustering**\n"
   ]
  },
  {
   "cell_type": "markdown",
   "metadata": {},
   "source": [
    "**Imports**\n"
   ]
  },
  {
   "cell_type": "code",
   "execution_count": null,
   "metadata": {},
   "outputs": [],
   "source": [
    "import numpy as np\n",
    "import pandas as pd\n",
    "import matplotlib.pyplot as plt\n",
    "from sklearn.datasets import make_blobs"
   ]
  },
  {
   "cell_type": "markdown",
   "metadata": {},
   "source": [
    "**Creating Dataset**\n"
   ]
  },
  {
   "cell_type": "code",
   "execution_count": null,
   "metadata": {},
   "outputs": [],
   "source": [
    "data, cluster = make_blobs(\n",
    "    n_samples=1000, n_features=2, random_state=23)"
   ]
  },
  {
   "cell_type": "markdown",
   "metadata": {},
   "source": [
    "**Plotting Dataset**\n"
   ]
  },
  {
   "cell_type": "code",
   "execution_count": null,
   "metadata": {},
   "outputs": [],
   "source": [
    "plt.figure(figsize=(5, 5))\n",
    "plt.scatter(data)"
   ]
  },
  {
   "cell_type": "markdown",
   "metadata": {},
   "source": [
    "**Initializing Random Centroids**\n"
   ]
  },
  {
   "cell_type": "code",
   "execution_count": null,
   "metadata": {},
   "outputs": [],
   "source": [
    "k = 3\n",
    "clusters = {}\n",
    "np.random.seed(23)\n",
    "\n",
    "for i in range(k):\n",
    "    center = 2 * (2 * np.random.random((data.shape[1],)) - 1)\n",
    "    points = []\n",
    "    cluster = {\n",
    "        \"center\": center,\n",
    "        \"points\": []\n",
    "    }\n",
    "    clusters[i] = cluster\n",
    "\n",
    "# clusters"
   ]
  },
  {
   "cell_type": "markdown",
   "metadata": {},
   "source": [
    "**Plotting the Random Clusters**\n"
   ]
  },
  {
   "cell_type": "code",
   "execution_count": null,
   "metadata": {},
   "outputs": [],
   "source": [
    "plt.figure(figsize=(5, 5))\n",
    "plt.scatter(data[:, 0], data[:, 1])\n",
    "for i in clusters:\n",
    "    center = clusters[i][\"center\"]\n",
    "    plt.scatter(center[0], center[1], marker=\"*\", c=\"red\")"
   ]
  },
  {
   "cell_type": "markdown",
   "metadata": {},
   "source": [
    "**Function for Euclidean Distance**\n"
   ]
  },
  {
   "cell_type": "code",
   "execution_count": null,
   "metadata": {},
   "outputs": [],
   "source": [
    "def distance(point1, point2):\n",
    "    return np.sqrt(np.sum((point1 - point2) ** 2))"
   ]
  },
  {
   "cell_type": "markdown",
   "metadata": {},
   "source": [
    "**Function to Assign Cluster**\n"
   ]
  },
  {
   "cell_type": "code",
   "execution_count": null,
   "metadata": {},
   "outputs": [],
   "source": [
    "def assign_cluster(data, clusters):\n",
    "    for i in range(data.shape[0]):\n",
    "        dist = []\n",
    "        current_x = data[i]\n",
    "\n",
    "        for j in range(k):\n",
    "            dis = distance(current_x, clusters[j][\"center\"])\n",
    "            dist.append(dis)\n",
    "\n",
    "        current_cluster = np.argmin(dist)\n",
    "        clusters[current_cluster][\"points\"].append(current_x)\n",
    "\n",
    "    return clusters"
   ]
  },
  {
   "cell_type": "markdown",
   "metadata": {},
   "source": [
    "**Function to Update Cluster**\n"
   ]
  },
  {
   "cell_type": "code",
   "execution_count": null,
   "metadata": {},
   "outputs": [],
   "source": [
    "def update_cluster(data, clusters):\n",
    "    for i in range(k):\n",
    "        points = np.array(clusters[i][\"points\"])\n",
    "\n",
    "        if points.shape[0] > 0:\n",
    "            new_center = points.mean(axis=0)\n",
    "            clusters[i][\"center\"] = new_center\n",
    "            clusters[i][\"points\"] = []\n",
    "\n",
    "    return clusters"
   ]
  },
  {
   "cell_type": "markdown",
   "metadata": {},
   "source": [
    "**Predict the Clusters**\n"
   ]
  },
  {
   "cell_type": "code",
   "execution_count": null,
   "metadata": {},
   "outputs": [],
   "source": [
    "def predict_cluster(data, clusters):\n",
    "    predict = []\n",
    "\n",
    "    for i in range(data.shape[0]):\n",
    "        dist = []\n",
    "\n",
    "        for j in range(k):\n",
    "            dist.append(distance(data[i], clusters[j][\"center\"]))\n",
    "\n",
    "        predict.append(np.argmin(dist))\n",
    "\n",
    "    return predict"
   ]
  },
  {
   "cell_type": "markdown",
   "metadata": {},
   "source": [
    "**Calling the Functions**\n"
   ]
  },
  {
   "cell_type": "code",
   "execution_count": null,
   "metadata": {},
   "outputs": [],
   "source": [
    "clusters = assign_cluster(data, clusters)\n",
    "clusters = update_cluster(data, clusters)\n",
    "predict = predict_cluster(data, clusters)"
   ]
  },
  {
   "cell_type": "markdown",
   "metadata": {},
   "source": [
    "**Plot the Points as Clusters**\n"
   ]
  },
  {
   "cell_type": "code",
   "execution_count": null,
   "metadata": {},
   "outputs": [],
   "source": [
    "plt.figure(figsize=(5, 5))\n",
    "plt.scatter(data[:, 0], data[:, 1], c=predict)\n",
    "for i in clusters:\n",
    "    center = clusters[i][\"center\"]\n",
    "    plt.scatter(center[0], center[1], marker=\"^\", c=\"red\")"
   ]
  }
 ],
 "metadata": {
  "kernelspec": {
   "display_name": "Python 3",
   "language": "python",
   "name": "python3"
  },
  "language_info": {
   "name": "python",
   "version": "3.11.4"
  },
  "orig_nbformat": 4
 },
 "nbformat": 4,
 "nbformat_minor": 2
}
